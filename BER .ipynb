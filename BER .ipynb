{
 "cells": [
  {
   "cell_type": "code",
   "execution_count": 1,
   "id": "5edc6320",
   "metadata": {},
   "outputs": [],
   "source": [
    "import numpy as np\n",
    "import random\n",
    "from PIL import Image\n",
    "from PIL import Image as im\n",
    "import cv2\n",
    "\n",
    "def calculate_ber(image1, image2):\n",
    "    \n",
    "    # Calculate the number of different bits between the images\n",
    "    different_bits = np.count_nonzero(image1 != image2)\n",
    "    \n",
    "    # Calculate the total number of bits\n",
    "    total_bits = image1.size\n",
    "    \n",
    "    # Calculate the bit error rate (BER)\n",
    "    ber = different_bits / total_bits\n",
    "    \n",
    "    return ber\n"
   ]
  },
  {
   "cell_type": "code",
   "execution_count": 2,
   "id": "6dd4f99d",
   "metadata": {},
   "outputs": [],
   "source": [
    "image = Image.open(\"snail300 (1).png\")\n",
    "secret = np.array(image)"
   ]
  },
  {
   "cell_type": "code",
   "execution_count": 3,
   "id": "cb186dca",
   "metadata": {},
   "outputs": [],
   "source": [
    "image = Image.open(\"DecryptedImage.png\")\n",
    "decrypted = np.array(image)\n",
    "\n",
    "# if(len(secret.shape) != 3):\n",
    "    \n",
    "#     decrypted = cv2.cvtColor( decrypted, cv2.COLOR_BGR2GRAY)"
   ]
  },
  {
   "cell_type": "code",
   "execution_count": 4,
   "id": "6d7e4f45",
   "metadata": {},
   "outputs": [],
   "source": [
    "ber=calculate_ber(secret,decrypted)"
   ]
  },
  {
   "cell_type": "code",
   "execution_count": 5,
   "id": "e5fc2915",
   "metadata": {},
   "outputs": [
    {
     "name": "stdout",
     "output_type": "stream",
     "text": [
      "BER: 0.0\n"
     ]
    }
   ],
   "source": [
    "print(\"BER:\",ber)"
   ]
  }
 ],
 "metadata": {
  "kernelspec": {
   "display_name": "Python 3 (ipykernel)",
   "language": "python",
   "name": "python3"
  },
  "language_info": {
   "codemirror_mode": {
    "name": "ipython",
    "version": 3
   },
   "file_extension": ".py",
   "mimetype": "text/x-python",
   "name": "python",
   "nbconvert_exporter": "python",
   "pygments_lexer": "ipython3",
   "version": "3.8.8"
  }
 },
 "nbformat": 4,
 "nbformat_minor": 5
}
