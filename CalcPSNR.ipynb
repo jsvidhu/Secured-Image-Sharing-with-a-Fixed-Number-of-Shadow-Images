{
 "cells": [
  {
   "cell_type": "code",
   "execution_count": 1,
   "id": "247a382a",
   "metadata": {},
   "outputs": [],
   "source": [
    "import numpy as np\n",
    "import random\n",
    "from PIL import Image\n",
    "from PIL import Image as im\n",
    "import cv2\n",
    "import math\n",
    "\n",
    "def PSNR(original, compressed):\n",
    "    mse = np.mean((original - compressed) ** 2)\n",
    "    if(mse == 0):\n",
    "        return mse,\"Infinity\"\n",
    "    max_pixel = 255.0\n",
    "    psnr = 20 * math.log10(max_pixel / math.sqrt(mse))\n",
    "    return mse,psnr\n"
   ]
  },
  {
   "cell_type": "code",
   "execution_count": 2,
   "id": "be5cc250",
   "metadata": {},
   "outputs": [],
   "source": [
    "image = Image.open(\"snail300 (1).png\")\n",
    "secret = np.asarray(image)"
   ]
  },
  {
   "cell_type": "code",
   "execution_count": 3,
   "id": "68c1fa9c",
   "metadata": {},
   "outputs": [],
   "source": [
    "image = Image.open(\"DecryptedImage.png\")\n",
    "\n",
    "\n",
    "decrypted = np.asarray(image)\n",
    "# if(len(secret.shape) != 3):\n",
    "    \n",
    "#     decrypted = cv2.cvtColor( decrypted, cv2.COLOR_BGR2GRAY)"
   ]
  },
  {
   "cell_type": "code",
   "execution_count": 4,
   "id": "3745921a",
   "metadata": {},
   "outputs": [],
   "source": [
    "mse,psnr=PSNR(secret,decrypted)"
   ]
  },
  {
   "cell_type": "code",
   "execution_count": 5,
   "id": "0c4c1670",
   "metadata": {},
   "outputs": [
    {
     "name": "stdout",
     "output_type": "stream",
     "text": [
      "MSE: 0.0\n",
      "psnr: Infinity\n"
     ]
    }
   ],
   "source": [
    "print(\"MSE:\",mse)\n",
    "print(\"psnr:\",psnr)"
   ]
  },
  {
   "cell_type": "code",
   "execution_count": null,
   "id": "39ca9323",
   "metadata": {},
   "outputs": [],
   "source": []
  }
 ],
 "metadata": {
  "kernelspec": {
   "display_name": "Python 3 (ipykernel)",
   "language": "python",
   "name": "python3"
  },
  "language_info": {
   "codemirror_mode": {
    "name": "ipython",
    "version": 3
   },
   "file_extension": ".py",
   "mimetype": "text/x-python",
   "name": "python",
   "nbconvert_exporter": "python",
   "pygments_lexer": "ipython3",
   "version": "3.8.8"
  }
 },
 "nbformat": 4,
 "nbformat_minor": 5
}
